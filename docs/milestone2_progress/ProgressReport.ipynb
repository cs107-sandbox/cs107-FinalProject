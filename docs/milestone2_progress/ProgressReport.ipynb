{
 "cells": [
  {
   "cell_type": "markdown",
   "id": "32b8daf9",
   "metadata": {},
   "source": [
    "## Milestone 2b"
   ]
  },
  {
   "cell_type": "markdown",
   "id": "8a13526f",
   "metadata": {},
   "source": [
    "#### Haoming Chen\n",
    "- **Task:** Implement foward Automatic Differentiation \n",
    "- **Current Status:** Explored different implementation methods to vectorize functions and adapt to multiple inputs\n",
    "\n",
    "#### Yiting Han \n",
    "- **Task:** Assist Haoming and check it works as specified in milestone document. Write implementation details, write ‘what aspects have you not implemented\n",
    "- **Current Status:** Wrote the background of AD and integrated the sections from group members\n",
    "\n",
    "#### Ivonne Martinez\n",
    "- **Task:** Test installation works on local computer, write how to use your package (installation info, basic demo, requirements.txt), check organization\n",
    "- **Current Status:** Worked on creating file structure and implementing foward automatic differentiation\n",
    "\n",
    "#### Gahyun Sung\n",
    "- **Task:** Write tests, update section on software organization\n",
    "- **Current Status:** Wrote forward Automatic Differentiation operations and elemental functions"
   ]
  },
  {
   "cell_type": "markdown",
   "id": "61bf8223",
   "metadata": {},
   "source": [
    "#### END"
   ]
  }
 ],
 "metadata": {
  "kernelspec": {
   "display_name": "Python 3",
   "language": "python",
   "name": "python3"
  },
  "language_info": {
   "codemirror_mode": {
    "name": "ipython",
    "version": 3
   },
   "file_extension": ".py",
   "mimetype": "text/x-python",
   "name": "python",
   "nbconvert_exporter": "python",
   "pygments_lexer": "ipython3",
   "version": "3.8.8"
  }
 },
 "nbformat": 4,
 "nbformat_minor": 5
}
